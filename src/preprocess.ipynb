{
 "cells": [
  {
   "cell_type": "code",
   "execution_count": null,
   "metadata": {},
   "outputs": [],
   "source": [
    "import numpy as np\n",
    "import glob\n",
    "import os\n",
    "import cv2\n",
    "import matplotlib.pyplot as plt\n",
    "%matplotlib inline"
   ]
  },
  {
   "cell_type": "code",
   "execution_count": null,
   "metadata": {},
   "outputs": [],
   "source": [
    "path = '../data/'"
   ]
  },
  {
   "cell_type": "code",
   "execution_count": null,
   "metadata": {},
   "outputs": [],
   "source": [
    "img_file = glob.glob(os.path.join(path, 'original_img/*'))\n",
    "img_file[0]"
   ]
  },
  {
   "cell_type": "code",
   "execution_count": null,
   "metadata": {},
   "outputs": [],
   "source": [
    "name = []\n",
    "name.append('dummy.jpg')\n",
    "name.append('joker.jpg')\n",
    "for suite in ['s', 'h', 'd', 'c']:\n",
    "    for num in range(1,14):\n",
    "        name.append(suite+str(num)+'.jpg')\n",
    "name.append('back.jpg')"
   ]
  },
  {
   "cell_type": "code",
   "execution_count": null,
   "metadata": {},
   "outputs": [],
   "source": [
    "img = cv2.imread(img_file[12])\n",
    "img = img[0:2000, :]\n",
    "gray = cv2.cvtColor(img, cv2.COLOR_BGR2GRAY)\n",
    "plt.imshow(gray, cmap='gray')"
   ]
  },
  {
   "cell_type": "code",
   "execution_count": null,
   "metadata": {
    "scrolled": true
   },
   "outputs": [],
   "source": [
    "ret, thresh = cv2.threshold(gray, 80, 255, cv2.THRESH_TOZERO_INV)\n",
    "ret, thresh = cv2.threshold(1-thresh, 80, 255, cv2.THRESH_TOZERO_INV)\n",
    "plt.imshow(thresh, cmap='gray')"
   ]
  },
  {
   "cell_type": "code",
   "execution_count": null,
   "metadata": {},
   "outputs": [],
   "source": [
    "thresh2 = cv2.adaptiveThreshold(gray, 255, cv2.ADAPTIVE_THRESH_GAUSSIAN_C, cv2.THRESH_BINARY_INV, 99, 20)\n",
    "plt.imshow(thresh2, cmap='gray')"
   ]
  },
  {
   "cell_type": "code",
   "execution_count": null,
   "metadata": {},
   "outputs": [],
   "source": [
    "thresh3 = cv2.threshold(gray, 0, 255, cv2.THRESH_BINARY_INV+cv2.THRESH_OTSU)[1]\n",
    "plt.imshow(thresh3, cmap='gray')"
   ]
  },
  {
   "cell_type": "code",
   "execution_count": null,
   "metadata": {},
   "outputs": [],
   "source": [
    "contours = cv2.findContours(thresh, cv2.RETR_LIST, cv2.CHAIN_APPROX_SIMPLE)[1]\n",
    "th_area = img.shape[0] * img.shape[1] / 100\n",
    "contours_large = list(filter(lambda c:cv2.contourArea(c) > th_area, contours))"
   ]
  },
  {
   "cell_type": "code",
   "execution_count": null,
   "metadata": {},
   "outputs": [],
   "source": [
    "def getRectByPoints(points):\n",
    "    points = list(map(lambda x: x[0], points))\n",
    "\n",
    "    points = sorted(points, key=lambda x:x[1])\n",
    "    top_points = sorted(points[:2], key=lambda x:x[0])\n",
    "    bottom_points = sorted(points[2:4], key=lambda x:x[0])\n",
    "    points = top_points + bottom_points\n",
    "\n",
    "    left = min(points[0][0], points[2][0])\n",
    "    right = max(points[1][0], points[3][0])\n",
    "    top = min(points[0][1], points[1][1])\n",
    "    bottom = max(points[2][1], points[3][1])\n",
    "    return (top, bottom, left, right)"
   ]
  },
  {
   "cell_type": "code",
   "execution_count": null,
   "metadata": {},
   "outputs": [],
   "source": [
    "outputs = []\n",
    "rects = []\n",
    "approxes = []\n",
    "for (i,cnt) in enumerate(contours_large):\n",
    "    arclen = cv2.arcLength(cnt, True)\n",
    "    approx = cv2.approxPolyDP(cnt, 0.1*arclen, True)\n",
    "    if len(approx) < 4:\n",
    "        continue\n",
    "    approxes.append(approx)\n",
    "    rect = getRectByPoints(approx)\n",
    "    rects.append(rect)"
   ]
  },
  {
   "cell_type": "code",
   "execution_count": null,
   "metadata": {},
   "outputs": [],
   "source": [
    "approxes"
   ]
  },
  {
   "cell_type": "code",
   "execution_count": null,
   "metadata": {},
   "outputs": [],
   "source": [
    "rects"
   ]
  },
  {
   "cell_type": "code",
   "execution_count": null,
   "metadata": {},
   "outputs": [],
   "source": [
    "test = np.copy(img)\n",
    "cv2.rectangle(test, (rects[0][2], rects[0][0]), (rects[0][3], rects[0][1]), (255, 0,0), 22)\n",
    "plt.imshow(test)"
   ]
  },
  {
   "cell_type": "code",
   "execution_count": null,
   "metadata": {},
   "outputs": [],
   "source": []
  }
 ],
 "metadata": {
  "kernelspec": {
   "display_name": "Python 3",
   "language": "python",
   "name": "python3"
  },
  "language_info": {
   "codemirror_mode": {
    "name": "ipython",
    "version": 3
   },
   "file_extension": ".py",
   "mimetype": "text/x-python",
   "name": "python",
   "nbconvert_exporter": "python",
   "pygments_lexer": "ipython3",
   "version": "3.6.3"
  }
 },
 "nbformat": 4,
 "nbformat_minor": 2
}
